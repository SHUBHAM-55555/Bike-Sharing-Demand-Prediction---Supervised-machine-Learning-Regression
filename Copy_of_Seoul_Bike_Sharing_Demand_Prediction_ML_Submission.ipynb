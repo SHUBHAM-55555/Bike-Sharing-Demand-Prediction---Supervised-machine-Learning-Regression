{
  "nbformat": 4,
  "nbformat_minor": 0,
  "metadata": {
    "colab": {
      "private_outputs": true,
      "provenance": [],
      "collapsed_sections": [
        "w6K7xa23Elo4",
        "mDgbUHAGgjLW",
        "Ag9LCva-p1cl",
        "E6MkPsBcp1cl",
        "2cELzS2fp1cl",
        "3MPXvC8up1cl",
        "gIfDvo9L0UH2"
      ],
      "include_colab_link": true
    },
    "kernelspec": {
      "name": "python3",
      "display_name": "Python 3"
    },
    "language_info": {
      "name": "python"
    }
  },
  "cells": [
    {
      "cell_type": "markdown",
      "metadata": {
        "id": "view-in-github",
        "colab_type": "text"
      },
      "source": [
        "<a href=\"https://colab.research.google.com/github/SHUBHAM-55555/Bike-Sharing-Demand-Prediction---Supervised-machine-Learning-Regression/blob/main/Copy_of_Seoul_Bike_Sharing_Demand_Prediction_ML_Submission.ipynb\" target=\"_parent\"><img src=\"https://colab.research.google.com/assets/colab-badge.svg\" alt=\"Open In Colab\"/></a>"
      ]
    },
    {
      "cell_type": "markdown",
      "source": [
        "# **Project Name**    -\n",
        "\n"
      ],
      "metadata": {
        "id": "vncDsAP0Gaoa"
      }
    },
    {
      "cell_type": "markdown",
      "source": [
        "##### **Project Type**    - Regression\n",
        "##### **Contribution**    - Individual\n",
        "##### **Name**            - Shubham Suresh Mandhare\n"
      ],
      "metadata": {
        "id": "beRrZCGUAJYm"
      }
    },
    {
      "cell_type": "markdown",
      "source": [
        "# **Project Summary -**"
      ],
      "metadata": {
        "id": "FJNUwmbgGyua"
      }
    },
    {
      "cell_type": "markdown",
      "source": [
        "I have chosen the Project named as Seoul Bike Sharing Demand Prediction. In the starting when i started the project it was very tough for me to execute the whole project from scrach, so i decided to search it on various platforms, i searched the same project on multiple plateforms like on github, kaggle, youtube, google then i finally got an idea about the project what are the insights of the project in actual.\n",
        "\n",
        "when i started this project first i studied about all the features in the dataset to get the more clear idea about the information so i got to know its about the rented bikes data when the bike was rented, for how long, what was the frequent time for most of the bikes rented for, what are the weather conditions taking effect on like during summer, winter, autumn and rainy and at the time of foggy atmosphere, so i learned all the parameters from the data to make it more understandable for myself.\n",
        "\n",
        "afte i did some kind of data visualization using different kind of graphs like scatterplot, bar plot , histogram heatmap to know about the correlation between the features present inside the data.\n",
        "\n",
        "at last i did some feature engineering on the data set like to apply mse,rmse,R square and adjusted R square to get the best fit model parameters.  \n",
        "this all the things i have included in my project which is of regression analysis.\n"
      ],
      "metadata": {
        "id": "F6v_1wHtG2nS"
      }
    },
    {
      "cell_type": "markdown",
      "source": [
        "# **GitHub Link -**"
      ],
      "metadata": {
        "id": "w6K7xa23Elo4"
      }
    },
    {
      "cell_type": "markdown",
      "source": [
        "Provide your GitHub Link here."
      ],
      "metadata": {
        "id": "h1o69JH3Eqqn"
      }
    },
    {
      "cell_type": "markdown",
      "source": [
        "https://github.com/SHUBHAM-55555/Bike-Sharing-Demand-Prediction---Supervised-machine-Learning-Regression/tree/main"
      ],
      "metadata": {
        "id": "yJrNtv3f58W0"
      }
    },
    {
      "cell_type": "markdown",
      "source": [
        "# **Problem Statement**\n"
      ],
      "metadata": {
        "id": "yQaldy8SH6Dl"
      }
    },
    {
      "cell_type": "markdown",
      "source": [
        "**Write Problem Statement Here.**"
      ],
      "metadata": {
        "id": "DpeJGUA3kjGy"
      }
    },
    {
      "cell_type": "markdown",
      "source": [
        "**Currently Rental bikes are introduced in many urban cities for the enhancement of mobility comfort. It is important to make the rental bike available and accessible to the public at the right time as it lessens the waiting time. Eventually, providing the city with a stable supply of rental bikes becomes a major concern. The crucial part is the prediction of bike count required at each hour for the stable supply of rental bikes.**"
      ],
      "metadata": {
        "id": "5TGMVhyZkIM6"
      }
    },
    {
      "cell_type": "markdown",
      "source": [
        "# **General Guidelines** : -  "
      ],
      "metadata": {
        "id": "mDgbUHAGgjLW"
      }
    },
    {
      "cell_type": "markdown",
      "source": [
        "1.   Well-structured, formatted, and commented code is required.\n",
        "2.   Exception Handling, Production Grade Code & Deployment Ready Code will be a plus. Those students will be awarded some additional credits.\n",
        "     \n",
        "     The additional credits will have advantages over other students during Star Student selection.\n",
        "       \n",
        "             [ Note: - Deployment Ready Code is defined as, the whole .ipynb notebook should be executable in one go\n",
        "                       without a single error logged. ]\n",
        "\n",
        "3.   Each and every logic should have proper comments.\n",
        "4. You may add as many number of charts you want. Make Sure for each and every chart the following format should be answered.\n",
        "        \n",
        "\n",
        "```\n",
        "# Chart visualization code\n",
        "```\n",
        "            \n",
        "\n",
        "*   Why did you pick the specific chart?\n",
        "*   What is/are the insight(s) found from the chart?\n",
        "* Will the gained insights help creating a positive business impact?\n",
        "Are there any insights that lead to negative growth? Justify with specific reason.\n",
        "\n",
        "5. You have to create at least 15 logical & meaningful charts having important insights.\n",
        "\n",
        "\n",
        "[ Hints : - Do the Vizualization in  a structured way while following \"UBM\" Rule.\n",
        "\n",
        "U - Univariate Analysis,\n",
        "\n",
        "B - Bivariate Analysis (Numerical - Categorical, Numerical - Numerical, Categorical - Categorical)\n",
        "\n",
        "M - Multivariate Analysis\n",
        " ]\n",
        "\n",
        "\n",
        "\n",
        "\n",
        "\n",
        "6. You may add more ml algorithms for model creation. Make sure for each and every algorithm, the following format should be answered.\n",
        "\n",
        "\n",
        "*   Explain the ML Model used and it's performance using Evaluation metric Score Chart.\n",
        "\n",
        "\n",
        "*   Cross- Validation & Hyperparameter Tuning\n",
        "\n",
        "*   Have you seen any improvement? Note down the improvement with updates Evaluation metric Score Chart.\n",
        "\n",
        "*   Explain each evaluation metric's indication towards business and the business impact pf the ML model used.\n",
        "\n",
        "\n",
        "\n",
        "\n",
        "\n",
        "\n",
        "\n",
        "\n",
        "\n",
        "\n",
        "\n",
        "\n",
        "\n",
        "\n",
        "\n",
        "\n",
        "\n",
        "\n"
      ],
      "metadata": {
        "id": "ZrxVaUj-hHfC"
      }
    },
    {
      "cell_type": "markdown",
      "source": [
        "# ***Let's Begin !***"
      ],
      "metadata": {
        "id": "O_i_v8NEhb9l"
      }
    },
    {
      "cell_type": "markdown",
      "source": [
        "## ***1. Know Your Data***"
      ],
      "metadata": {
        "id": "HhfV-JJviCcP"
      }
    },
    {
      "cell_type": "markdown",
      "source": [
        "### Import Libraries"
      ],
      "metadata": {
        "id": "Y3lxredqlCYt"
      }
    },
    {
      "cell_type": "code",
      "source": [
        "# Import Libraries"
      ],
      "metadata": {
        "id": "M8Vqi-pPk-HR"
      },
      "execution_count": null,
      "outputs": []
    },
    {
      "cell_type": "code",
      "source": [
        "import numpy as np\n",
        "import pandas as pd\n",
        "import matplotlib.pyplot as plt\n",
        "import seaborn as sns\n",
        "\n",
        "from sklearn.model_selection import train_test_split\n",
        "from sklearn.preprocessing import MinMaxScaler,StandardScaler\n",
        "from sklearn.pipeline import Pipeline\n",
        "from sklearn.compose import ColumnTransformer\n",
        "from sklearn.preprocessing import OneHotEncoder, LabelEncoder\n",
        "from sklearn import metrics\n",
        "from sklearn.model_selection import RandomizedSearchCV\n",
        "from sklearn.linear_model import LinearRegression, Lasso, Ridge\n",
        "from sklearn.tree import DecisionTreeClassifier\n",
        "from sklearn.ensemble import RandomForestRegressor, GradientBoostingRegressor\n",
        "from xgboost import XGBRegressor\n",
        "from sklearn.svm import SVR\n",
        "from sklearn.neighbors import KNeighborsRegressor\n",
        "from sklearn import tree\n",
        "import datetime as dt\n",
        "import datetime as datetime"
      ],
      "metadata": {
        "id": "yo-LoMPAlhpB"
      },
      "execution_count": null,
      "outputs": []
    },
    {
      "cell_type": "markdown",
      "source": [
        "### Dataset Loading"
      ],
      "metadata": {
        "id": "3RnN4peoiCZX"
      }
    },
    {
      "cell_type": "code",
      "source": [
        "#mounting drive to google colab\n",
        "from google.colab import drive\n",
        "drive.mount('/content/drive')\n",
        ""
      ],
      "metadata": {
        "id": "K_HCxR044uKt"
      },
      "execution_count": null,
      "outputs": []
    },
    {
      "cell_type": "code",
      "source": [
        "# Load Dataset\n",
        "bike_data = pd.read_csv('/content/SeoulBikeData.csv',encoding = 'unicode_escape')"
      ],
      "metadata": {
        "id": "4CkvbW_SlZ_R"
      },
      "execution_count": null,
      "outputs": []
    },
    {
      "cell_type": "markdown",
      "source": [
        "### Dataset First View"
      ],
      "metadata": {
        "id": "x71ZqKXriCWQ"
      }
    },
    {
      "cell_type": "code",
      "source": [
        "# Dataset First Look"
      ],
      "metadata": {
        "id": "LWNFOSvLl09H"
      },
      "execution_count": null,
      "outputs": []
    },
    {
      "cell_type": "code",
      "source": [
        "bike_data.head()"
      ],
      "metadata": {
        "id": "tOTL6vy_m6cT"
      },
      "execution_count": null,
      "outputs": []
    },
    {
      "cell_type": "code",
      "source": [
        "# data sets last 5 rows by default using tail method\n",
        "bike_data.tail()\n"
      ],
      "metadata": {
        "id": "lpAaOiJxnE9H"
      },
      "execution_count": null,
      "outputs": []
    },
    {
      "cell_type": "markdown",
      "source": [
        "### Dataset Rows & Columns count"
      ],
      "metadata": {
        "id": "7hBIi_osiCS2"
      }
    },
    {
      "cell_type": "code",
      "source": [
        "# Dataset Rows & Columns count rows = 8760, and no. of columns = 14\n",
        "bike_data.shape"
      ],
      "metadata": {
        "id": "Kllu7SJgmLij"
      },
      "execution_count": null,
      "outputs": []
    },
    {
      "cell_type": "markdown",
      "source": [
        "### Dataset Information"
      ],
      "metadata": {
        "id": "JlHwYmJAmNHm"
      }
    },
    {
      "cell_type": "code",
      "source": [
        "# Dataset Info about the null values and type of dataset\n",
        "bike_data.info()\n",
        "# got to know that there are not null values in the data set which is very good dataset"
      ],
      "metadata": {
        "id": "e9hRXRi6meOf"
      },
      "execution_count": null,
      "outputs": []
    },
    {
      "cell_type": "code",
      "source": [
        "# describe method gives the mean, median , mode and the numeric information about the data set, here i havent included the rest of the columns other than numeric values\n",
        "# but its possible by using the method .describe(include = 'all')\n",
        "bike_data.describe()"
      ],
      "metadata": {
        "id": "FHBSEi0Zow3_"
      },
      "execution_count": null,
      "outputs": []
    },
    {
      "cell_type": "code",
      "source": [
        "# finding the columns in the data set to visualize more better\n",
        "bike_data.columns"
      ],
      "metadata": {
        "id": "tCaLTzfTpWs5"
      },
      "execution_count": null,
      "outputs": []
    },
    {
      "cell_type": "markdown",
      "source": [
        "#### Duplicate Values"
      ],
      "metadata": {
        "id": "35m5QtbWiB9F"
      }
    },
    {
      "cell_type": "code",
      "source": [
        "# Dataset Duplicate Value Count\n",
        "bike_data.duplicated().sum()"
      ],
      "metadata": {
        "id": "1sLdpKYkmox0"
      },
      "execution_count": null,
      "outputs": []
    },
    {
      "cell_type": "markdown",
      "source": [
        "**found 0 duplicate values in the data set**"
      ],
      "metadata": {
        "id": "F4qLKQouqgDF"
      }
    },
    {
      "cell_type": "markdown",
      "source": [
        "#### Missing Values/Null Values"
      ],
      "metadata": {
        "id": "PoPl-ycgm1ru"
      }
    },
    {
      "cell_type": "code",
      "source": [
        "# Missing Values/Null Values Count\n",
        "# finding the no. of null value count from each columns which is found to be zero\n",
        "bike_data.isnull().sum()"
      ],
      "metadata": {
        "id": "GgHWkxvamxVg"
      },
      "execution_count": null,
      "outputs": []
    },
    {
      "cell_type": "code",
      "source": [
        "# Visualizing the missing values\n",
        "# after finding the null values which is 0, so no missing values are present in the data"
      ],
      "metadata": {
        "id": "3q5wnI3om9sJ"
      },
      "execution_count": null,
      "outputs": []
    },
    {
      "cell_type": "markdown",
      "source": [
        "### What did you know about your dataset?"
      ],
      "metadata": {
        "id": "H0kj-8xxnORC"
      }
    },
    {
      "cell_type": "markdown",
      "source": [
        "**After doing a bit research about the data so i found out its a bike sharing data with the dependent variable \"Rented Bike Count\" and rest of the columns are indipendent variables, and the good thing about the data is not containing any missing or duplicate values in it.**\n",
        "\n",
        "**The data is showing weather conditions like visibility, Rainfall, Snowfall which directly affect on the the bike business to get on rent, its very obvious that in rainy season to get the bike on rent its very less or when the vision is not clear due to the weather condition again the same scenario will happen, apart from this i got the information about the time period for which the bike is get rented and on which date it gets rented**"
      ],
      "metadata": {
        "id": "gfoNAAC-nUe_"
      }
    },
    {
      "cell_type": "markdown",
      "source": [
        "## ***2. Understanding Your Variables***"
      ],
      "metadata": {
        "id": "nA9Y7ga8ng1Z"
      }
    },
    {
      "cell_type": "code",
      "source": [
        "# Dataset Columns\n",
        "bike_data.columns"
      ],
      "metadata": {
        "id": "j7xfkqrt5Ag5"
      },
      "execution_count": null,
      "outputs": []
    },
    {
      "cell_type": "code",
      "source": [
        "# Dataset Describe\n",
        "# describe method gives the information about the numeric values within the data\n",
        "bike_data.describe(include = 'all')"
      ],
      "metadata": {
        "id": "DnOaZdaE5Q5t"
      },
      "execution_count": null,
      "outputs": []
    },
    {
      "cell_type": "markdown",
      "source": [
        "### Variables Description"
      ],
      "metadata": {
        "id": "PBTbrJXOngz2"
      }
    },
    {
      "cell_type": "markdown",
      "source": [
        "Answer Here"
      ],
      "metadata": {
        "id": "aJV4KIxSnxay"
      }
    },
    {
      "cell_type": "markdown",
      "source": [
        "**Attribute Information:**\n",
        "\n",
        "**Date : year-month-day**\n",
        "\n",
        "**Rented Bike count - Count of bikes rented at each hour**\n",
        "\n",
        "**Hour - Hour of the day**\n",
        "\n",
        "**Temperature-Temperature in Celsius**\n",
        "\n",
        "**Humidity - %**\n",
        "\n",
        "**Windspeed - m/s**\n",
        "\n",
        "**Visibility - 10m**\n",
        "\n",
        "**Dew point temperature - Celsius**\n",
        "\n",
        "**Solar radiation - MJ/m2**\n",
        "\n",
        "**Rainfall -  Rainfall in mm**\n",
        "\n",
        "**Snowfall - cm**\n",
        "\n",
        "**Seasons - Winter, Spring, Summer, Autumn**\n",
        "\n",
        "**Holiday - Holiday/No holiday**\n",
        "\n",
        "**Functional Day - NoFunc(Non Functional Hours), Fun(Functional hours)**"
      ],
      "metadata": {
        "id": "XJNIlHedzx30"
      }
    },
    {
      "cell_type": "markdown",
      "source": [
        "### Check Unique Values for each variable."
      ],
      "metadata": {
        "id": "u3PMJOP6ngxN"
      }
    },
    {
      "cell_type": "code",
      "source": [
        "# Check Unique Values for each variable.\n",
        "bike_data.nunique()"
      ],
      "metadata": {
        "id": "zms12Yq5n-jE"
      },
      "execution_count": null,
      "outputs": []
    },
    {
      "cell_type": "markdown",
      "source": [
        "## 3. ***Data Wrangling***"
      ],
      "metadata": {
        "id": "dauF4eBmngu3"
      }
    },
    {
      "cell_type": "markdown",
      "source": [
        "### Data Wrangling Code"
      ],
      "metadata": {
        "id": "bKJF3rekwFvQ"
      }
    },
    {
      "cell_type": "code",
      "source": [
        "# Write your code to make your dataset analysis ready.\n",
        "#Converting the datatype of Date column from object  to datatime\n",
        "bike_data['Date'] = pd.to_datetime(bike_data['Date'], format='%d/%m/%Y')"
      ],
      "metadata": {
        "id": "wk-9a2fpoLcV"
      },
      "execution_count": null,
      "outputs": []
    },
    {
      "cell_type": "code",
      "source": [
        "#Extracting Month,Weekday and Year from the date column\n",
        "bike_data['Month']=bike_data['Date'].dt.month\n",
        "bike_data['Days_of_week']=bike_data['Date'].dt.day_name()\n",
        "bike_data['Year']=bike_data['Date'].dt.year\n",
        "bike_data['Day']=bike_data['Date'].dt.day"
      ],
      "metadata": {
        "id": "sLI6zdtg38wQ"
      },
      "execution_count": null,
      "outputs": []
    },
    {
      "cell_type": "code",
      "source": [
        "bike_data.shape"
      ],
      "metadata": {
        "id": "ecchE_Ft_PiP"
      },
      "execution_count": null,
      "outputs": []
    },
    {
      "cell_type": "markdown",
      "source": [
        "**New columns creating as per the requirments**"
      ],
      "metadata": {
        "id": "YGPwvWgw9w8T"
      }
    },
    {
      "cell_type": "code",
      "source": [
        "#The number of unique values in Date column\n",
        "bike_data['Date'].nunique()"
      ],
      "metadata": {
        "id": "gcAM3-_I4448"
      },
      "execution_count": null,
      "outputs": []
    },
    {
      "cell_type": "code",
      "source": [
        "#The number of unique values in Year column\n",
        "bike_data['Year'].value_counts()"
      ],
      "metadata": {
        "id": "a-fHfzQ09Kfr"
      },
      "execution_count": null,
      "outputs": []
    },
    {
      "cell_type": "markdown",
      "source": [
        "Most of the data belongs to year 2018 as above"
      ],
      "metadata": {
        "id": "kUh-lrxB_cC1"
      }
    },
    {
      "cell_type": "code",
      "source": [
        "#Finding the date of first and last entry in the dataset\n",
        "print(f'The dataset contains observations from ',min(bike_data['Date']).date(),'to',max(bike_data['Date']).date())"
      ],
      "metadata": {
        "id": "fXbMzaMz9TKm"
      },
      "execution_count": null,
      "outputs": []
    },
    {
      "cell_type": "code",
      "source": [
        "#Creating a column which specifies  if the day is a Weekend('Y')or not ('N')\n",
        "bike_data['Weekend']=bike_data['Days_of_week'].apply(lambda x : ('Y') if x in ['Saturday','Sunday'] else ('N'))"
      ],
      "metadata": {
        "id": "7PIZaJLu9V2U"
      },
      "execution_count": null,
      "outputs": []
    },
    {
      "cell_type": "code",
      "source": [
        "#Displaying the unique values in the categorical columns\n",
        "categorical_columns=['Seasons','Holiday', 'Functioning Day','Days_of_week','Weekend']\n",
        "\n",
        "for col in categorical_columns:\n",
        "  print(f'The unique values in the column {col} are {bike_data[col].unique()}')"
      ],
      "metadata": {
        "id": "l8OXcOTm9ZXs"
      },
      "execution_count": null,
      "outputs": []
    },
    {
      "cell_type": "markdown",
      "source": [
        "### What all manipulations have you done and insights you found?"
      ],
      "metadata": {
        "id": "MSa1f5Uengrz"
      }
    },
    {
      "cell_type": "markdown",
      "source": [
        "**The very first thing which i did, i changed the datatype of \"Date\" columns to its original belonging data type which is Date type columns**\n",
        "\n",
        "**After that i created saperate columns for each information like for days, year and month to extract the exact information from it.**\n",
        "\n",
        "**Then i applied the lambda an anonymous function to find out whether the is weekday or weekend.**\n",
        "\n",
        "**Finally i took the unique values from the above mentioned columns to get the insights from the data that the unique values are present in the data**\n"
      ],
      "metadata": {
        "id": "LbyXE7I1olp8"
      }
    },
    {
      "cell_type": "markdown",
      "source": [
        "## ***4. Data Vizualization, Storytelling & Experimenting with charts : Understand the relationships between variables***"
      ],
      "metadata": {
        "id": "GF8Ens_Soomf"
      }
    },
    {
      "cell_type": "markdown",
      "source": [
        "#### Chart - 1"
      ],
      "metadata": {
        "id": "0wOQAZs5pc--"
      }
    },
    {
      "cell_type": "code",
      "source": [
        "# Chart - 1 visualization code\n",
        "fig = plt.figure(figsize=(12,15))\n",
        "c = 1\n",
        "list1 = ['Hour','Temperature(°C)',\t'Humidity(%)',\t'Wind speed (m/s)',\t'Visibility (10m)',\t'Dew point temperature(°C)','Solar Radiation (MJ/m2)','Rainfall(mm)','Snowfall (cm)']\n",
        "for i in list1:\n",
        "  plt.subplot(3,3,c)\n",
        "  sns.histplot(bike_data[i],kde = True)\n",
        "  plt.title('Distribution of {}'.format(i))\n",
        "  c+=1\n",
        "plt.tight_layout()\n"
      ],
      "metadata": {
        "id": "7v_ESjsspbW7"
      },
      "execution_count": null,
      "outputs": []
    },
    {
      "cell_type": "markdown",
      "source": [
        "##### 1. Why did you pick the specific chart?"
      ],
      "metadata": {
        "id": "K5QZ13OEpz2H"
      }
    },
    {
      "cell_type": "markdown",
      "source": [
        "**To show the Distribution of data whether its positively skewed or negatively or normally distributed**"
      ],
      "metadata": {
        "id": "XESiWehPqBRc"
      }
    },
    {
      "cell_type": "markdown",
      "source": [
        "##### 2. What is/are the insight(s) found from the chart?"
      ],
      "metadata": {
        "id": "lQ7QKXXCp7Bj"
      }
    },
    {
      "cell_type": "markdown",
      "source": [
        "Distribution of Temperature,Humidity,Dew point temperature are almost normal.\n",
        "\n",
        "Wind speed,Solar Radiation,Rainfall,Snowfall-positively skewed\n",
        "\n",
        "Visibility is negatively skewed"
      ],
      "metadata": {
        "id": "C_j1G7yiqdRP"
      }
    },
    {
      "cell_type": "markdown",
      "source": [
        "#### Chart - 2"
      ],
      "metadata": {
        "id": "KSlN3yHqYklG"
      }
    },
    {
      "cell_type": "code",
      "source": [
        "# Chart - 2 visualization code\n",
        "sns.displot(bike_data['Rented Bike Count'],kde=True,color='black')\n",
        "plt.title('Distibution of Rented Bike Count')"
      ],
      "metadata": {
        "id": "R4YgtaqtYklH"
      },
      "execution_count": null,
      "outputs": []
    },
    {
      "cell_type": "markdown",
      "source": [
        "##### 1. Why did you pick the specific chart?"
      ],
      "metadata": {
        "id": "t6dVpIINYklI"
      }
    },
    {
      "cell_type": "markdown",
      "source": [
        "**How is the dependent variable Rented Bike Count distributed**"
      ],
      "metadata": {
        "id": "5aaW0BYyYklI"
      }
    },
    {
      "cell_type": "markdown",
      "source": [
        "##### 2. What is/are the insight(s) found from the chart?"
      ],
      "metadata": {
        "id": "ijmpgYnKYklI"
      }
    },
    {
      "cell_type": "markdown",
      "source": [
        "**The dependent variable which is dependent on indipendent variable whose disrtibution is as above visualized**"
      ],
      "metadata": {
        "id": "PSx9atu2YklI"
      }
    },
    {
      "cell_type": "markdown",
      "source": [
        "#### Chart - 3"
      ],
      "metadata": {
        "id": "EM7whBJCYoAo"
      }
    },
    {
      "cell_type": "code",
      "source": [
        "# Chart - 3 visualization code\n",
        "fig = plt.figure(figsize=(8,25))\n",
        "c=1\n",
        "for i in list1 :\n",
        "    plt.subplot(13,1, c)\n",
        "    plt.xlabel('Distibution of {}'.format(i))\n",
        "    sns.boxplot(x=i,data=bike_data)\n",
        "    c = c + 1\n",
        "plt.tight_layout(pad=0.4, w_pad=0.5, h_pad=5.0)"
      ],
      "metadata": {
        "id": "t6GMdE67YoAp"
      },
      "execution_count": null,
      "outputs": []
    },
    {
      "cell_type": "markdown",
      "source": [
        "##### 1. Why did you pick the specific chart?"
      ],
      "metadata": {
        "id": "fge-S5ZAYoAp"
      }
    },
    {
      "cell_type": "markdown",
      "source": [
        "**To find any outliers in the data present or not???**"
      ],
      "metadata": {
        "id": "5dBItgRVYoAp"
      }
    },
    {
      "cell_type": "markdown",
      "source": [
        "##### 2. What is/are the insight(s) found from the chart?"
      ],
      "metadata": {
        "id": "85gYPyotYoAp"
      }
    },
    {
      "cell_type": "markdown",
      "source": [
        "**The outlier values are not extreme,nor unusual.So,we retain these values in our dataset.**"
      ],
      "metadata": {
        "id": "4jstXR6OYoAp"
      }
    },
    {
      "cell_type": "markdown",
      "source": [
        "#### Chart - 4"
      ],
      "metadata": {
        "id": "4Of9eVA-YrdM"
      }
    },
    {
      "cell_type": "code",
      "source": [
        "# Chart - 4 visualization code\n",
        "plt.figure(figsize=(8,6))\n",
        "sns.boxplot(x='Holiday',y='Rented Bike Count',data=bike_data,palette='Set1')"
      ],
      "metadata": {
        "id": "irlUoxc8YrdO"
      },
      "execution_count": null,
      "outputs": []
    },
    {
      "cell_type": "markdown",
      "source": [
        "##### 1. Why did you pick the specific chart?"
      ],
      "metadata": {
        "id": "iky9q4vBYrdO"
      }
    },
    {
      "cell_type": "markdown",
      "source": [
        "**What is the likelihood of people renting bikes on holidays and non-holidays**"
      ],
      "metadata": {
        "id": "aJRCwT6DYrdO"
      }
    },
    {
      "cell_type": "markdown",
      "source": [
        "##### 2. What is/are the insight(s) found from the chart?"
      ],
      "metadata": {
        "id": "F6T5p64dYrdO"
      }
    },
    {
      "cell_type": "markdown",
      "source": [
        "**The demand for rented bikes is higher on non-Holidays. which means people generally prefering the bike to get rent on non-holidays**"
      ],
      "metadata": {
        "id": "Xx8WAJvtYrdO"
      }
    },
    {
      "cell_type": "markdown",
      "source": [
        "#### Chart - 5"
      ],
      "metadata": {
        "id": "bamQiAODYuh1"
      }
    },
    {
      "cell_type": "code",
      "source": [
        "# Chart - 5 visualization code\n",
        "plt.figure(figsize=(8,6))\n",
        "sns.boxplot(x='Days_of_week',y='Rented Bike Count',data=bike_data,palette='Set1')"
      ],
      "metadata": {
        "id": "TIJwrbroYuh3"
      },
      "execution_count": null,
      "outputs": []
    },
    {
      "cell_type": "markdown",
      "source": [
        "##### 1. Why did you pick the specific chart?"
      ],
      "metadata": {
        "id": "QHF8YVU7Yuh3"
      }
    },
    {
      "cell_type": "markdown",
      "source": [
        "**To find the demand of rented bikes as per the days of week**"
      ],
      "metadata": {
        "id": "dcxuIMRPYuh3"
      }
    },
    {
      "cell_type": "markdown",
      "source": [
        "##### 2. What is/are the insight(s) found from the chart?"
      ],
      "metadata": {
        "id": "GwzvFGzlYuh3"
      }
    },
    {
      "cell_type": "markdown",
      "source": [
        "**Least demand on Sunday,Slightly higher demand on Friday More demand on weekdays than weekends.**"
      ],
      "metadata": {
        "id": "uyqkiB8YYuh3"
      }
    },
    {
      "cell_type": "markdown",
      "source": [
        "#### Chart - 6"
      ],
      "metadata": {
        "id": "OH-pJp9IphqM"
      }
    },
    {
      "cell_type": "code",
      "source": [
        "# Chart - 6 visualization code\n",
        "plt.figure(figsize=(10,8))\n",
        "sns.lineplot(x='Hour',y='Rented Bike Count',data=bike_data,palette='Set1',hue='Seasons',lw=1.5)"
      ],
      "metadata": {
        "id": "kuRf4wtuphqN"
      },
      "execution_count": null,
      "outputs": []
    },
    {
      "cell_type": "markdown",
      "source": [
        "##### 1. Why did you pick the specific chart?"
      ],
      "metadata": {
        "id": "bbFf2-_FphqN"
      }
    },
    {
      "cell_type": "markdown",
      "source": [
        "**What is the demand for rental bikes during different hours of the day**"
      ],
      "metadata": {
        "id": "loh7H2nzphqN"
      }
    },
    {
      "cell_type": "markdown",
      "source": [
        "##### 2. What is/are the insight(s) found from the chart?"
      ],
      "metadata": {
        "id": "_ouA3fa0phqN"
      }
    },
    {
      "cell_type": "markdown",
      "source": [
        "**The demand for rental bikes peaks at 8 (8:00 am) and 18 (6:00 PM ).\n",
        "which clearly indicates that during the office hours people generally prefer to get the bike on rent**\n",
        "\n",
        "**This peak in demand coincides with opening and closing hours of various institutions and offices.**\n",
        "\n",
        "**The demand for rental bikes increases steadily after 10:00 AM and continues till 6:00 PM**"
      ],
      "metadata": {
        "id": "VECbqPI7phqN"
      }
    },
    {
      "cell_type": "markdown",
      "source": [
        "#### Chart - 7"
      ],
      "metadata": {
        "id": "PIIx-8_IphqN"
      }
    },
    {
      "cell_type": "code",
      "source": [
        "# Chart - 7 visualization code\n",
        "fig = plt.figure(figsize=(12,12))\n",
        "c=1\n",
        "columns=['Rented Bike Count','Temperature(°C)','Visibility (10m)', 'Wind speed (m/s)', 'Humidity(%)','Rainfall(mm)', 'Snowfall (cm)']\n",
        "for i in columns :\n",
        "    plt.subplot(4,2,c)\n",
        "    plt.ylabel(i)\n",
        "    plt.title(label=i,fontsize=15,color=\"black\")\n",
        "    sns.barplot(data=bike_data, x='Seasons', y=i, palette='Set1')\n",
        "    sns.lineplot(data=bike_data, x='Seasons', y=i, color='black')\n",
        "    c = c + 1\n",
        "plt.tight_layout()"
      ],
      "metadata": {
        "id": "lqAIGUfyphqO"
      },
      "execution_count": null,
      "outputs": []
    },
    {
      "cell_type": "markdown",
      "source": [
        "##### 1. Why did you pick the specific chart?"
      ],
      "metadata": {
        "id": "t27r6nlMphqO"
      }
    },
    {
      "cell_type": "markdown",
      "source": [
        "**The seasonal demand for rental bikes is positively associated with temperature, solar radiation ,rainfall ,humidity and is negatively related with Snowfall received.**"
      ],
      "metadata": {
        "id": "iv6ro40sphqO"
      }
    },
    {
      "cell_type": "markdown",
      "source": [
        "##### 2. What is/are the insight(s) found from the chart?"
      ],
      "metadata": {
        "id": "r2jJGEOYphqO"
      }
    },
    {
      "cell_type": "markdown",
      "source": [
        "**Temperature and Hour have a strong correlation with the count of rented bikes.\n",
        "\n",
        "Dew point temperature is highly positively correlated to the Temperature.\n",
        "\n",
        "During the period from Dec 2017 to Nov 2018,bike rental facilities were available on most days.The service was unavailable only for 13 days.\n",
        "\n",
        "The demand for rental bikes is higher on Regular days(Non-Holidays) .\n",
        "\n",
        "There is more demand for rental bikes on Weekdays than on Weekends.\n",
        "\n",
        "The peak demands for rental bikes occur on the opening (8-9 AM) and closing times (6-7pm) of offices and institutions.**"
      ],
      "metadata": {
        "id": "Po6ZPi4hphqO"
      }
    },
    {
      "cell_type": "markdown",
      "source": [
        "#### Chart - 8"
      ],
      "metadata": {
        "id": "BZR9WyysphqO"
      }
    },
    {
      "cell_type": "code",
      "source": [
        "# Chart - 8 visualization code\n",
        "plt.figure(figsize=(8,6))\n",
        "sns.boxplot(x='Weekend',y='Rented Bike Count',data=bike_data,palette='Set1')"
      ],
      "metadata": {
        "id": "TdPTWpAVphqO"
      },
      "execution_count": null,
      "outputs": []
    },
    {
      "cell_type": "markdown",
      "source": [
        "##### 1. Why did you pick the specific chart?"
      ],
      "metadata": {
        "id": "jj7wYXLtphqO"
      }
    },
    {
      "cell_type": "markdown",
      "source": [
        "**To find the demand of rented bike on weekdays and on weekends**"
      ],
      "metadata": {
        "id": "Ob8u6rCTphqO"
      }
    },
    {
      "cell_type": "markdown",
      "source": [
        "##### 2. What is/are the insight(s) found from the chart?"
      ],
      "metadata": {
        "id": "eZrbJ2SmphqO"
      }
    },
    {
      "cell_type": "markdown",
      "source": [
        "**The average demand for rental bikes is lower on Weekends(Sat-Sun) as compared to Weekdays(Mon-Fri).**"
      ],
      "metadata": {
        "id": "mZtgC_hjphqO"
      }
    },
    {
      "cell_type": "markdown",
      "source": [
        "#### Chart - 9"
      ],
      "metadata": {
        "id": "YJ55k-q6phqO"
      }
    },
    {
      "cell_type": "code",
      "source": [
        "# Chart - 9 visualization code\n",
        "plt.figure(figsize=[10,6])\n",
        "sns.scatterplot(data=bike_data, y='Temperature(°C)', x='Dew point temperature(°C)')"
      ],
      "metadata": {
        "id": "B2aS4O1ophqO"
      },
      "execution_count": null,
      "outputs": []
    },
    {
      "cell_type": "markdown",
      "source": [
        "##### 1. Why did you pick the specific chart?"
      ],
      "metadata": {
        "id": "gCFgpxoyphqP"
      }
    },
    {
      "cell_type": "markdown",
      "source": [
        "**To show how much Dew point temperature is affected by the other variable Temperature**"
      ],
      "metadata": {
        "id": "TVxDimi2phqP"
      }
    },
    {
      "cell_type": "markdown",
      "source": [
        "##### 2. What is/are the insight(s) found from the chart?"
      ],
      "metadata": {
        "id": "OVtJsKN_phqQ"
      }
    },
    {
      "cell_type": "markdown",
      "source": [
        "**Both the variables affected by each other as the temperature goes on increasing the dew point temperature is also increasing which indicates the clear weather condition with less dew**"
      ],
      "metadata": {
        "id": "ngGi97qjphqQ"
      }
    },
    {
      "cell_type": "markdown",
      "source": [
        "#### Chart - 10"
      ],
      "metadata": {
        "id": "U2RJ9gkRphqQ"
      }
    },
    {
      "cell_type": "code",
      "source": [
        "# Chart - 10 visualization code\n",
        "fig = plt.figure(figsize=(10,10))\n",
        "c=1\n",
        "columns=['Rented Bike Count','Temperature(°C)','Visibility (10m)', 'Wind speed (m/s)','Solar Radiation (MJ/m2)', 'Humidity(%)','Rainfall(mm)','Snowfall (cm)']\n",
        "for i in columns :\n",
        "    plt.subplot(4,2, c)\n",
        "    plt.ylabel(i)\n",
        "    plt.title(label=i,fontsize=15,color=\"green\")\n",
        "    sns.lineplot(data=bike_data, x='Month', y=i, color='r')\n",
        "    c = c + 1\n",
        "plt.tight_layout()"
      ],
      "metadata": {
        "id": "GM7a4YP4phqQ"
      },
      "execution_count": null,
      "outputs": []
    },
    {
      "cell_type": "markdown",
      "source": [
        "##### 1. Why did you pick the specific chart?"
      ],
      "metadata": {
        "id": "1M8mcRywphqQ"
      }
    },
    {
      "cell_type": "markdown",
      "source": [
        "**What are the factors which influence the demand for rental bikes during different months?**"
      ],
      "metadata": {
        "id": "8agQvks0phqQ"
      }
    },
    {
      "cell_type": "markdown",
      "source": [
        "##### 2. What is/are the insight(s) found from the chart?"
      ],
      "metadata": {
        "id": "tgIPom80phqQ"
      }
    },
    {
      "cell_type": "markdown",
      "source": [
        "The monthly count of rented bikes is positively associated with Temperature.\n",
        "\n",
        "Snowfall movement coincides with season, with heavy snowfall from December to February throughout the winter season. There's a decline in count of rented bikes during these months.\n",
        "\n",
        "Rainfall tends to be more frequent in Seoul from June to August, during the summer season.However,this has not lead to decline in demand for rental bikes during those months."
      ],
      "metadata": {
        "id": "Qp13pnNzphqQ"
      }
    },
    {
      "cell_type": "markdown",
      "source": [
        "#### Chart - 11"
      ],
      "metadata": {
        "id": "x-EpHcCOp1ci"
      }
    },
    {
      "cell_type": "code",
      "source": [
        "# Chart - 11 visualization code\n",
        "fig = plt.figure(figsize=(10,10))\n",
        "c=1\n",
        "columns=['Rented Bike Count','Temperature(°C)','Visibility (10m)', 'Wind speed (m/s)','Solar Radiation (MJ/m2)', 'Humidity(%)']\n",
        "for i in columns :\n",
        "    plt.subplot(3,2,c)\n",
        "    plt.ylabel(i)\n",
        "    plt.title(label=i,fontsize=15,color=\"green\")\n",
        "    sns.lineplot(data=bike_data, x='Hour', y=i, color='r')\n",
        "    c = c + 1\n",
        "plt.tight_layout()"
      ],
      "metadata": {
        "id": "mAQTIvtqp1cj"
      },
      "execution_count": null,
      "outputs": []
    },
    {
      "cell_type": "markdown",
      "source": [
        "##### 1. Why did you pick the specific chart?"
      ],
      "metadata": {
        "id": "X_VqEhTip1ck"
      }
    },
    {
      "cell_type": "markdown",
      "source": [
        "**What are the factors which influence the demand for rental bikes during a day?**"
      ],
      "metadata": {
        "id": "-vsMzt_np1ck"
      }
    },
    {
      "cell_type": "markdown",
      "source": [
        "##### 2. What is/are the insight(s) found from the chart?"
      ],
      "metadata": {
        "id": "8zGJKyg5p1ck"
      }
    },
    {
      "cell_type": "markdown",
      "source": [
        "**Temperature, visibility, windspeed, and humidity appear to be positively associated to the hourly demand for rental bikes.**\n",
        "\n",
        "**The rented bike counts are highest during the hours from 7:00 AM to 20.00 (8:00 PM), when the temperature is highest, there is the most visibility, windspeed, and humidity is lowest.**"
      ],
      "metadata": {
        "id": "ZYdMsrqVp1ck"
      }
    },
    {
      "cell_type": "markdown",
      "source": [
        "#### Chart - 12"
      ],
      "metadata": {
        "id": "n3dbpmDWp1ck"
      }
    },
    {
      "cell_type": "code",
      "source": [
        "# Chart - 12 visualization code\n",
        "plt.figure(figsize=(8,6))\n",
        "sns.barplot(x='Functioning Day',y='Rented Bike Count',data=bike_data)\n"
      ],
      "metadata": {
        "id": "bwevp1tKp1ck"
      },
      "execution_count": null,
      "outputs": []
    },
    {
      "cell_type": "markdown",
      "source": [
        "##### 1. Why did you pick the specific chart?"
      ],
      "metadata": {
        "id": "ylSl6qgtp1ck"
      }
    },
    {
      "cell_type": "markdown",
      "source": [
        "**Were rental services offered on non-functional days**"
      ],
      "metadata": {
        "id": "m2xqNkiQp1ck"
      }
    },
    {
      "cell_type": "markdown",
      "source": [
        "##### 2. What is/are the insight(s) found from the chart?"
      ],
      "metadata": {
        "id": "ZWILFDl5p1ck"
      }
    },
    {
      "cell_type": "markdown",
      "source": [
        "The rental service were functional on most days during the period from Dec 2017 to Nov 2018(only 13 non-functional days)\n",
        "\n",
        "Although,we've observed few records on Non-Functioning Day,rental services were not offered on those days(no exceptions)"
      ],
      "metadata": {
        "id": "x-lUsV2mp1ck"
      }
    },
    {
      "cell_type": "markdown",
      "source": [
        "#### Chart - 13"
      ],
      "metadata": {
        "id": "Ag9LCva-p1cl"
      }
    },
    {
      "cell_type": "code",
      "source": [
        "# Chart - 13 visualization code"
      ],
      "metadata": {
        "id": "EUfxeq9-p1cl"
      },
      "execution_count": null,
      "outputs": []
    },
    {
      "cell_type": "markdown",
      "source": [
        "##### 1. Why did you pick the specific chart?"
      ],
      "metadata": {
        "id": "E6MkPsBcp1cl"
      }
    },
    {
      "cell_type": "markdown",
      "source": [
        "Answer Here."
      ],
      "metadata": {
        "id": "V22bRsFWp1cl"
      }
    },
    {
      "cell_type": "markdown",
      "source": [
        "##### 2. What is/are the insight(s) found from the chart?"
      ],
      "metadata": {
        "id": "2cELzS2fp1cl"
      }
    },
    {
      "cell_type": "markdown",
      "source": [
        "Answer Here"
      ],
      "metadata": {
        "id": "ozQPc2_Ip1cl"
      }
    },
    {
      "cell_type": "markdown",
      "source": [
        "##### 3. Will the gained insights help creating a positive business impact?\n",
        "Are there any insights that lead to negative growth? Justify with specific reason."
      ],
      "metadata": {
        "id": "3MPXvC8up1cl"
      }
    },
    {
      "cell_type": "markdown",
      "source": [
        "Answer Here"
      ],
      "metadata": {
        "id": "GL8l1tdLp1cl"
      }
    },
    {
      "cell_type": "markdown",
      "source": [
        "#### Chart - 14 - Correlation Heatmap"
      ],
      "metadata": {
        "id": "NC_X3p0fY2L0"
      }
    },
    {
      "cell_type": "code",
      "source": [
        "# Correlation Heatmap visualization code\n",
        "plt.figure(figsize = (10,8))\n",
        "sns.heatmap(bike_data.corr(),annot=True,linewidth = 0.5, vmin=-1, vmax=1, cmap = 'Blues')"
      ],
      "metadata": {
        "id": "xyC9zolEZNRQ"
      },
      "execution_count": null,
      "outputs": []
    },
    {
      "cell_type": "markdown",
      "source": [
        "##### 1. Why did you pick the specific chart?"
      ],
      "metadata": {
        "id": "UV0SzAkaZNRQ"
      }
    },
    {
      "cell_type": "markdown",
      "source": [
        "**To find the correlation between the features with other features**"
      ],
      "metadata": {
        "id": "DVPuT8LYZNRQ"
      }
    },
    {
      "cell_type": "markdown",
      "source": [
        "##### 2. What is/are the insight(s) found from the chart?"
      ],
      "metadata": {
        "id": "YPEH6qLeZNRQ"
      }
    },
    {
      "cell_type": "markdown",
      "source": [
        "**Dew point temperature is strongly correlated with temperature.**\n",
        "\n",
        "**Temperature,Hour shares a stronger correlation with Rented Bike count**"
      ],
      "metadata": {
        "id": "bfSqtnDqZNRR"
      }
    },
    {
      "cell_type": "markdown",
      "source": [
        "## ***6. Feature Engineering & Data Pre-processing***"
      ],
      "metadata": {
        "id": "yLjJCtPM0KBk"
      }
    },
    {
      "cell_type": "markdown",
      "source": [
        "1: **VARIANCE INFLATION FACTOR**"
      ],
      "metadata": {
        "id": "2n-akwy06RrC"
      }
    },
    {
      "cell_type": "code",
      "source": [
        "# CHECKING THE MULTICOLLINEARITY BETWEEN THE VARIABLES\n",
        "#Checking for multicollinearity\n",
        "\n",
        "from statsmodels.stats.outliers_influence import variance_inflation_factor\n",
        "\n",
        "def check_vif(dataframe):\n",
        "  '''\n",
        "  This function calculates the variance inflation factor of the independent features in the datasdet\n",
        "  '''\n",
        "\n",
        "  # the independent variables set\n",
        "  X =dataframe\n",
        "  # VIF dataframe\n",
        "  vif_data = pd.DataFrame()\n",
        "  vif_data[\"feature\"] = X.columns\n",
        "\n",
        "  # calculating VIF for each feature\n",
        "  vif_data[\"VIF\"] = [variance_inflation_factor(X.values, i)\n",
        "                            for i in range(len(X.columns))]\n",
        "  print(vif_data)"
      ],
      "metadata": {
        "id": "tZrWbRJO5-8V"
      },
      "execution_count": null,
      "outputs": []
    },
    {
      "cell_type": "code",
      "source": [
        "#Displaying the columns in the dataframe\n",
        "bike_data.columns"
      ],
      "metadata": {
        "id": "6WXILCTK7CCX"
      },
      "execution_count": null,
      "outputs": []
    },
    {
      "cell_type": "code",
      "source": [
        "#Checking the VIF value of certain columns in bike_data.\n",
        "check_vif(bike_data[['Hour', 'Temperature(°C)', 'Humidity(%)',\n",
        "       'Wind speed (m/s)', 'Visibility (10m)', 'Dew point temperature(°C)',\n",
        "       'Solar Radiation (MJ/m2)', 'Rainfall(mm)', 'Snowfall (cm)',\n",
        "        'Month','Year','Day']])"
      ],
      "metadata": {
        "id": "2azSQtd58S7e"
      },
      "execution_count": null,
      "outputs": []
    },
    {
      "cell_type": "code",
      "source": [
        "# checking the VIF score again for better results.\n",
        "check_vif(bike_data[['Hour', 'Temperature(°C)', 'Humidity(%)','Wind speed (m/s)', 'Visibility (10m)',\n",
        "       'Solar Radiation (MJ/m2)', 'Rainfall(mm)', 'Snowfall (cm)','Month','Day']])"
      ],
      "metadata": {
        "id": "240U23lQ85ac"
      },
      "execution_count": null,
      "outputs": []
    },
    {
      "cell_type": "code",
      "source": [
        "#Dropping 'Dew point temperature(°C)','Year' to reduce the VIF\n",
        "bike_data.drop(columns=['Dew point temperature(°C)','Year'],inplace=True)\n"
      ],
      "metadata": {
        "id": "BJR3Nt9R-evF"
      },
      "execution_count": null,
      "outputs": []
    },
    {
      "cell_type": "markdown",
      "source": [
        "**Now we can clearly see after removing some of the highly correlated variables, rest of the features are with less correlation and now in the acceptable range**"
      ],
      "metadata": {
        "id": "zYGZDNIV9Bhb"
      }
    },
    {
      "cell_type": "code",
      "source": [
        "#Creating a copy of the main dataframe 'bike_data'\n",
        "df=bike_data.copy()"
      ],
      "metadata": {
        "id": "bPfvdnkU9u0B"
      },
      "execution_count": null,
      "outputs": []
    },
    {
      "cell_type": "code",
      "source": [
        "#Creating dummies for the Categorical columns\n",
        "df = pd.get_dummies(bike_data, columns = ['Seasons','Holiday','Weekend','Functioning Day'],drop_first=True)\n",
        "df.head(2)\n"
      ],
      "metadata": {
        "id": "w9TK6BAI_zHv"
      },
      "execution_count": null,
      "outputs": []
    },
    {
      "cell_type": "code",
      "source": [
        "df.columns"
      ],
      "metadata": {
        "id": "P9WhiuXd_8_Z"
      },
      "execution_count": null,
      "outputs": []
    },
    {
      "cell_type": "code",
      "source": [
        "df.shape"
      ],
      "metadata": {
        "id": "MjZ-wTIHABia"
      },
      "execution_count": null,
      "outputs": []
    },
    {
      "cell_type": "code",
      "source": [
        "#Dropping the columns Date and Days_of_week\n",
        "df.drop(['Days_of_week','Date'],axis=1,inplace=True)\n"
      ],
      "metadata": {
        "id": "Gr0FuwnCARo7"
      },
      "execution_count": null,
      "outputs": []
    },
    {
      "cell_type": "code",
      "source": [
        "df.columns"
      ],
      "metadata": {
        "id": "_MpIIExjAU8z"
      },
      "execution_count": null,
      "outputs": []
    },
    {
      "cell_type": "code",
      "source": [
        "df.shape"
      ],
      "metadata": {
        "id": "Z6MGRyI0AXFf"
      },
      "execution_count": null,
      "outputs": []
    },
    {
      "cell_type": "markdown",
      "source": [
        "**IMPLEMANTATION OF REGRESSION MODELS TO CHECK THE BEST FIT FOR THE DATASET**"
      ],
      "metadata": {
        "id": "3xJyNIvmAd2I"
      }
    },
    {
      "cell_type": "code",
      "source": [
        "# IMPORTING LIBRARIES\n",
        "from sklearn.model_selection import train_test_split\n",
        "from sklearn.metrics import mean_squared_error,mean_absolute_error,r2_score\n"
      ],
      "metadata": {
        "id": "taXLZbeoAmgV"
      },
      "execution_count": null,
      "outputs": []
    },
    {
      "cell_type": "code",
      "source": [
        "#Defining independent and dependent variables\n",
        "\n",
        "y = df['Rented Bike Count']\n",
        "X = df.drop('Rented Bike Count',axis=1)"
      ],
      "metadata": {
        "id": "71GsBTZvA1-S"
      },
      "execution_count": null,
      "outputs": []
    },
    {
      "cell_type": "code",
      "source": [
        "X_train, X_test,y_train, y_test = train_test_split(X , y, test_size = 0.3, random_state = 42)"
      ],
      "metadata": {
        "id": "l5eYez06BVD1"
      },
      "execution_count": null,
      "outputs": []
    },
    {
      "cell_type": "code",
      "source": [
        "print(f'The shape of X : {X.shape}\\n The shape of X_train : {X_train.shape}\\n The shape of X_test : {X_test.shape}')"
      ],
      "metadata": {
        "id": "Ypzf0YW1Rv5Z"
      },
      "execution_count": null,
      "outputs": []
    },
    {
      "cell_type": "code",
      "source": [
        "#Creating functions to calculate the Evaluation metrics for the regression models\n",
        "\n",
        "def evaluate_model(name,X_test,y_true,y_pred):\n",
        "\n",
        "  '''\n",
        "  This function calculate  metrics for evaluating\n",
        "  the perfomance of Regression models\n",
        "  '''\n",
        "  list_=[]\n",
        "  #calculating mean absolute error\n",
        "  MAE =  mean_absolute_error(y_true,y_pred)\n",
        "  print(f'MAE : {MAE}')\n",
        "\n",
        "  #finding mean_squared_error\n",
        "  MSE  = mean_squared_error(y_true,y_pred)\n",
        "  print(\"MSE :\" , MSE)\n",
        "\n",
        "  #finding root mean squared error\n",
        "  RMSE = np.sqrt(MSE)\n",
        "  print(\"RMSE :\" ,RMSE)\n",
        "\n",
        "  #finding the r2 score\n",
        "  r2 = r2_score(y_true,y_pred)\n",
        "  print(\"R2 :\" ,r2)\n",
        "\n",
        "  #finding the adjusted r2 score\n",
        "  adj_r2=1-(1-r2_score(y_true,y_pred))*((X_test.shape[0]-1)/(X_test.shape[0]-X_test.shape[1]-1))\n",
        "  print(\"Adjusted R2 : \",adj_r2)\n",
        "  list_.extend([name,MAE,MSE,RMSE,r2,adj_r2])\n",
        "  return(list_)"
      ],
      "metadata": {
        "id": "Y36uaFI9R2rg"
      },
      "execution_count": null,
      "outputs": []
    },
    {
      "cell_type": "code",
      "source": [
        "#Creating a  list which would store lists of different models and their performance metrics\n",
        "list_of_models=[]\n"
      ],
      "metadata": {
        "id": "1rS6i2a8SNiw"
      },
      "execution_count": null,
      "outputs": []
    },
    {
      "cell_type": "markdown",
      "source": [
        "## **LINEAR REGRESSION**"
      ],
      "metadata": {
        "id": "uilzfox9STvI"
      }
    },
    {
      "cell_type": "code",
      "source": [
        "#Scaling the features\n",
        "from sklearn.preprocessing import StandardScaler\n",
        "std = StandardScaler()\n",
        "X_train = std.fit_transform(X_train)\n",
        "X_test = std.transform(X_test)\n"
      ],
      "metadata": {
        "id": "g86i61UyS9XN"
      },
      "execution_count": null,
      "outputs": []
    },
    {
      "cell_type": "code",
      "source": [
        "#Importing the Linear Regression model\n",
        "from sklearn.linear_model import LinearRegression"
      ],
      "metadata": {
        "id": "ZdA9mlGgTjVm"
      },
      "execution_count": null,
      "outputs": []
    },
    {
      "cell_type": "code",
      "source": [
        "#Fitting the data to Linear Regression model\n",
        "regressor = LinearRegression()\n",
        "regressor.fit(X_train, y_train)"
      ],
      "metadata": {
        "id": "r6Sh3XUaT17_"
      },
      "execution_count": null,
      "outputs": []
    },
    {
      "cell_type": "code",
      "source": [
        "#predicting the values of y from X_test\n",
        "y_pred= regressor.predict(X_test)\n"
      ],
      "metadata": {
        "id": "P_hL8ooLT63D"
      },
      "execution_count": null,
      "outputs": []
    },
    {
      "cell_type": "code",
      "source": [
        "#Evaluating the model\n",
        "list_of_models.append(evaluate_model('Multiple Linear Regression',X_test,y_test,y_pred))"
      ],
      "metadata": {
        "id": "MXKy0nXYT9or"
      },
      "execution_count": null,
      "outputs": []
    },
    {
      "cell_type": "markdown",
      "source": [
        "## **LASSO REGRESSION**"
      ],
      "metadata": {
        "id": "BAWtE5N6Usk_"
      }
    },
    {
      "cell_type": "code",
      "source": [
        "#importing the classes required for Cross Validation\n",
        "from sklearn.model_selection import RandomizedSearchCV as rscv\n",
        "from sklearn.model_selection import GridSearchCV as gsv\n"
      ],
      "metadata": {
        "id": "8I9Ul_sqUcJC"
      },
      "execution_count": null,
      "outputs": []
    },
    {
      "cell_type": "code",
      "source": [
        "#importing the linear_model class from sklearn library\n",
        "from sklearn import linear_model\n",
        "\n",
        "#Creating a Lasso Linear model object\n",
        "ls_model = linear_model.Lasso()\n",
        "\n"
      ],
      "metadata": {
        "id": "_s2yQA7PVCjQ"
      },
      "execution_count": null,
      "outputs": []
    },
    {
      "cell_type": "code",
      "source": [
        "#Creating the parameter grid\n",
        "grid = dict()\n",
        "grid['alpha'] = np.arange(0, 1, 0.005,)\n",
        "grid['max_iter'] = [25,50,100,500,1000]"
      ],
      "metadata": {
        "id": "E9Jprl63VF31"
      },
      "execution_count": null,
      "outputs": []
    },
    {
      "cell_type": "code",
      "source": [
        "#performing GridSearch CV\n",
        "ls_model=gsv(estimator=ls_model, param_grid=grid,cv=5 ,verbose=1, scoring='r2')"
      ],
      "metadata": {
        "id": "Ff6MqLbvVI_B"
      },
      "execution_count": null,
      "outputs": []
    },
    {
      "cell_type": "code",
      "source": [
        "#Training the model\n",
        "ls_model.fit(X_train,y_train)"
      ],
      "metadata": {
        "id": "bYTwm2U5VMmJ"
      },
      "execution_count": null,
      "outputs": []
    },
    {
      "cell_type": "markdown",
      "source": [
        "GridSearchCV(cv=5, estimator=Lasso(),\n",
        "             param_grid={'alpha': array([0.   , 0.005, 0.01 , 0.015, 0.02 , 0.025, 0.03 , 0.035, 0.04 ,\n",
        "       0.045, 0.05 , 0.055, 0.06 , 0.065, 0.07 , 0.075, 0.08 , 0.085,\n",
        "       0.09 , 0.095, 0.1  , 0.105, 0.11 , 0.115, 0.12 , 0.125, 0.13 ,\n",
        "       0.135, 0.14 , 0.145, 0.15 , 0.155, 0.16 , 0.165, 0.17 , 0.175,\n",
        "       0.18 , 0.185, 0.19 , 0.195, 0.2  , 0.205, 0.21 , 0.215, 0.22 ,\n",
        "       0.225, 0.23 , 0.235, 0.24 , 0.245, 0.25 , 0.255, 0.26 ,...\n",
        "       0.72 , 0.725, 0.73 , 0.735, 0.74 , 0.745, 0.75 , 0.755, 0.76 ,\n",
        "       0.765, 0.77 , 0.775, 0.78 , 0.785, 0.79 , 0.795, 0.8  , 0.805,\n",
        "       0.81 , 0.815, 0.82 , 0.825, 0.83 , 0.835, 0.84 , 0.845, 0.85 ,\n",
        "       0.855, 0.86 , 0.865, 0.87 , 0.875, 0.88 , 0.885, 0.89 , 0.895,\n",
        "       0.9  , 0.905, 0.91 , 0.915, 0.92 , 0.925, 0.93 , 0.935, 0.94 ,\n",
        "       0.945, 0.95 , 0.955, 0.96 , 0.965, 0.97 , 0.975, 0.98 , 0.985,\n",
        "       0.99 , 0.995]),\n",
        "                         'max_iter': [25, 50, 100, 500, 1000]},\n",
        "             scoring='r2', verbose=1)"
      ],
      "metadata": {
        "id": "HkyMmJN9V-hM"
      }
    },
    {
      "cell_type": "code",
      "source": [
        "#displaying the best estimators and score\n",
        "print(ls_model.best_estimator_,'The best score is ',ls_model.best_score_)"
      ],
      "metadata": {
        "id": "AkaySNNEWG9M"
      },
      "execution_count": null,
      "outputs": []
    },
    {
      "cell_type": "code",
      "source": [
        "#Fitting the data to optimal Lasso model\n",
        "best_lasso = ls_model.best_estimator_\n",
        "best_lasso.fit(X_train, y_train)"
      ],
      "metadata": {
        "id": "OhHC2wHzWhjx"
      },
      "execution_count": null,
      "outputs": []
    },
    {
      "cell_type": "markdown",
      "source": [
        "Lasso(alpha=0.23500000000000001, max_iter=25)"
      ],
      "metadata": {
        "id": "1HVTtOKKWqMD"
      }
    },
    {
      "cell_type": "code",
      "source": [
        "#Prediciting the values for y from X_test using the best parameters\n",
        "y_pred=best_lasso.predict(X_test)"
      ],
      "metadata": {
        "id": "-C5XdxHuW2XM"
      },
      "execution_count": null,
      "outputs": []
    },
    {
      "cell_type": "code",
      "source": [
        "#Evaluating the model\n",
        "list_of_models.append(evaluate_model('Lasso Regression(Tuned)',X_test,y_test,y_pred))\n"
      ],
      "metadata": {
        "id": "aO29D-B5W5m8"
      },
      "execution_count": null,
      "outputs": []
    },
    {
      "cell_type": "markdown",
      "source": [
        "## **RIDGE REGRESSION**"
      ],
      "metadata": {
        "id": "aGN3HnytXIpW"
      }
    },
    {
      "cell_type": "code",
      "source": [
        "#importing Ridge from linear_model class of sklearn library\n",
        "from sklearn.linear_model import Ridge"
      ],
      "metadata": {
        "id": "FLA7sgviXOo3"
      },
      "execution_count": null,
      "outputs": []
    },
    {
      "cell_type": "code",
      "source": [
        "#Creating an instance of Ridge regression\n",
        "ridge=Ridge()"
      ],
      "metadata": {
        "id": "2Uisw5nmXRtK"
      },
      "execution_count": null,
      "outputs": []
    },
    {
      "cell_type": "code",
      "source": [
        "#Training the model\n",
        "ridge.fit(X_train,y_train)"
      ],
      "metadata": {
        "id": "2qKZ3HZYXUkO"
      },
      "execution_count": null,
      "outputs": []
    },
    {
      "cell_type": "code",
      "source": [
        "#predicting the values of y from the test data\n",
        "y_pred=ridge.predict(X_test)"
      ],
      "metadata": {
        "id": "2bb3NpEAXZLt"
      },
      "execution_count": null,
      "outputs": []
    },
    {
      "cell_type": "code",
      "source": [
        "ridge.score(X_train,y_train)"
      ],
      "metadata": {
        "id": "Pzhg91H2XdaP"
      },
      "execution_count": null,
      "outputs": []
    },
    {
      "cell_type": "code",
      "source": [
        "#Evaluating the model\n",
        "list_of_models.append(evaluate_model('Ridge Regression (default)',X_test,y_test,y_pred))"
      ],
      "metadata": {
        "id": "7BgMKQYhXhME"
      },
      "execution_count": null,
      "outputs": []
    },
    {
      "cell_type": "code",
      "source": [
        "#Creating an object of linear model with Ridge regularization\n",
        "Ridge_model = linear_model.Ridge()\n"
      ],
      "metadata": {
        "id": "fvvarpElbjCx"
      },
      "execution_count": null,
      "outputs": []
    },
    {
      "cell_type": "code",
      "source": [
        "#Creating the parameter grid\n",
        "grid = dict()\n",
        "grid['alpha'] = np.arange(0, 1, 0.005)\n",
        "grid['max_iter'] = [25,50,100,500,1000]"
      ],
      "metadata": {
        "id": "udwgBnNJajQJ"
      },
      "execution_count": null,
      "outputs": []
    },
    {
      "cell_type": "code",
      "source": [
        "#Perfoming cross-validation to find the best model\n",
        "Ridge_model=gsv(estimator=Ridge_model, param_grid=grid,cv=5 ,verbose=1, scoring='r2')\n",
        "Ridge_model.fit(X_train,y_train)\n"
      ],
      "metadata": {
        "id": "0QYaI_L-bVWd"
      },
      "execution_count": null,
      "outputs": []
    },
    {
      "cell_type": "markdown",
      "source": [
        "GridSearchCV(cv=5, estimator=Ridge(),\n",
        "             param_grid={'alpha': array([0.   , 0.005, 0.01 , 0.015, 0.02 , 0.025, 0.03 , 0.035, 0.04 ,\n",
        "       0.045, 0.05 , 0.055, 0.06 , 0.065, 0.07 , 0.075, 0.08 , 0.085,\n",
        "       0.09 , 0.095, 0.1  , 0.105, 0.11 , 0.115, 0.12 , 0.125, 0.13 ,\n",
        "       0.135, 0.14 , 0.145, 0.15 , 0.155, 0.16 , 0.165, 0.17 , 0.175,\n",
        "       0.18 , 0.185, 0.19 , 0.195, 0.2  , 0.205, 0.21 , 0.215, 0.22 ,\n",
        "       0.225, 0.23 , 0.235, 0.24 , 0.245, 0.25 , 0.255, 0.26 ,...\n",
        "       0.72 , 0.725, 0.73 , 0.735, 0.74 , 0.745, 0.75 , 0.755, 0.76 ,\n",
        "       0.765, 0.77 , 0.775, 0.78 , 0.785, 0.79 , 0.795, 0.8  , 0.805,\n",
        "       0.81 , 0.815, 0.82 , 0.825, 0.83 , 0.835, 0.84 , 0.845, 0.85 ,\n",
        "       0.855, 0.86 , 0.865, 0.87 , 0.875, 0.88 , 0.885, 0.89 , 0.895,\n",
        "       0.9  , 0.905, 0.91 , 0.915, 0.92 , 0.925, 0.93 , 0.935, 0.94 ,\n",
        "       0.945, 0.95 , 0.955, 0.96 , 0.965, 0.97 , 0.975, 0.98 , 0.985,\n",
        "       0.99 , 0.995]),\n",
        "                         'max_iter': [25, 50, 100, 500, 1000]},\n",
        "             scoring='r2', verbose=1)"
      ],
      "metadata": {
        "id": "kbn67GHVbxct"
      }
    },
    {
      "cell_type": "code",
      "source": [
        "print(Ridge_model.best_estimator_,Ridge_model.best_score_)"
      ],
      "metadata": {
        "id": "HR6fOOunb1mV"
      },
      "execution_count": null,
      "outputs": []
    },
    {
      "cell_type": "code",
      "source": [
        "#Fitting the train data to the Ridge model with best parameters\n",
        "best_ridge = Ridge_model.best_estimator_\n",
        "best_ridge.fit(X_train,y_train)\n"
      ],
      "metadata": {
        "id": "qYhi8pt8cFjP"
      },
      "execution_count": null,
      "outputs": []
    },
    {
      "cell_type": "code",
      "source": [
        "Ridge(alpha=0.995, max_iter=25)"
      ],
      "metadata": {
        "id": "7Te4D3S9cLkT"
      },
      "execution_count": null,
      "outputs": []
    },
    {
      "cell_type": "code",
      "source": [
        "y_pred = best_ridge.predict(X_test)"
      ],
      "metadata": {
        "id": "kXcNMaKacI82"
      },
      "execution_count": null,
      "outputs": []
    },
    {
      "cell_type": "code",
      "source": [
        "#Evaluating the model\n",
        "list_of_models.append(evaluate_model('Ridge Regression(Tuned)',X_test,y_test,y_pred))"
      ],
      "metadata": {
        "id": "qjQ_h5UdcQ50"
      },
      "execution_count": null,
      "outputs": []
    },
    {
      "cell_type": "markdown",
      "source": [
        "## **DECISION TREE REGRESSION**"
      ],
      "metadata": {
        "id": "eEFWGh1ldoCs"
      }
    },
    {
      "cell_type": "code",
      "source": [
        "#Splitting the data to train and test again(to obtain non-scaled test and train data)\n",
        "from sklearn.model_selection import train_test_split\n",
        "X_train, X_test, y_train, y_test = train_test_split(X, y, test_size=0.3, random_state=42)"
      ],
      "metadata": {
        "id": "Lp3oxK_5dnG4"
      },
      "execution_count": null,
      "outputs": []
    },
    {
      "cell_type": "code",
      "source": [
        "#Splitting the data to train and test again(to obtain non-scaled test and train data)\n",
        "from sklearn.model_selection import train_test_split\n",
        "X_train, X_test, y_train, y_test = train_test_split(X, y, test_size=0.3, random_state=42)"
      ],
      "metadata": {
        "id": "FKYpF8-pgrCr"
      },
      "execution_count": null,
      "outputs": []
    },
    {
      "cell_type": "code",
      "source": [
        "from sklearn.model_selection import GridSearchCV\n",
        "from sklearn.tree import DecisionTreeRegressor\n",
        "\n",
        "#Creating a decision tree regressor object\n",
        "dtr = DecisionTreeRegressor()\n",
        "\n",
        "# hyper-parameter tuning using gridSearchCV\n",
        "parameters = {'max_depth': [int(i) for i in np.linspace(start=3, stop=20, num=17)],\n",
        "              'min_samples_split':[2,3,4],\n",
        "              'min_samples_leaf':[1,2,3,4],\n",
        "              }\n",
        "\n",
        "gridsearch_dtr = GridSearchCV(dtr, parameters, scoring='r2', cv=5)\n",
        "gridsearch_dtr.fit(X_train, y_train)\n"
      ],
      "metadata": {
        "id": "LIzQGGXRgwqq"
      },
      "execution_count": null,
      "outputs": []
    },
    {
      "cell_type": "markdown",
      "source": [
        "GridSearchCV(cv=5, estimator=DecisionTreeRegressor(),\n",
        "\n",
        "             param_grid={'max_depth': [3, 4, 5, 6, 7, 8, 9, 10, 11, 12, 13, 14,\n",
        "                                       15, 16, 17, 18, 20],\n",
        "                         'min_samples_leaf': [1, 2, 3, 4],\n",
        "                         'min_samples_split': [2, 3, 4]},\n",
        "             scoring='r2')"
      ],
      "metadata": {
        "id": "xsS9VS4ZhOfg"
      }
    },
    {
      "cell_type": "code",
      "source": [
        "# best parameters.\n",
        "print('Best parameters for our model are: max_depth={}, min_samples_split={}, min_samples_leaf={}'.format(gridsearch_dtr.best_params_['max_depth'],\n",
        "                                    gridsearch_dtr.best_params_['min_samples_split'], gridsearch_dtr.best_params_['min_samples_leaf']))"
      ],
      "metadata": {
        "id": "JpJ9Rn34g4bU"
      },
      "execution_count": null,
      "outputs": []
    },
    {
      "cell_type": "code",
      "source": [
        "# train and test performance\n",
        "train_score = gridsearch_dtr.best_score_\n",
        "test_score = gridsearch_dtr.best_estimator_.score(X_test,y_test)\n",
        "\n",
        "print('The best r2 score for train data is {}'.format(train_score))\n",
        "print('The best r2 score for test data is {}'.format(test_score))"
      ],
      "metadata": {
        "id": "xf2dKafbjgL4"
      },
      "execution_count": null,
      "outputs": []
    },
    {
      "cell_type": "markdown",
      "source": [
        "## **XG BOOST REGRESSION**"
      ],
      "metadata": {
        "id": "GeQ0MiBgphYE"
      }
    },
    {
      "cell_type": "code",
      "source": [
        "#importing the required packages and classes\n",
        "from sklearn.model_selection import cross_val_score, GridSearchCV, KFold, RandomizedSearchCV, train_test_split\n",
        "from xgboost import XGBRegressor\n",
        "import xgboost as xgb"
      ],
      "metadata": {
        "id": "j6a5hHgApq6X"
      },
      "execution_count": null,
      "outputs": []
    },
    {
      "cell_type": "code",
      "source": [
        "def rmse_cv(model):\n",
        "    rmse = np.sqrt(-cross_val_score(model, X, y, scoring=\"neg_mean_squared_error\", cv=5)).mean()\n",
        "    return rmse\n",
        "\n",
        "def evaluation(y, predictions):\n",
        "    mae = mean_absolute_error(y, predictions)\n",
        "    mse = mean_squared_error(y, predictions)\n",
        "    rmse = np.sqrt(mean_squared_error(y, predictions))\n",
        "    r_squared = r2_score(y, predictions)\n",
        "    return mae, mse, rmse, r_squared"
      ],
      "metadata": {
        "id": "uZIN3XxKpurV"
      },
      "execution_count": null,
      "outputs": []
    },
    {
      "cell_type": "code",
      "source": [
        "xgb = XGBRegressor(n_estimators=1000, learning_rate=0.01)\n",
        "xgb.fit(X_train, y_train)\n",
        "predictions = xgb.predict(X_test)\n",
        "\n",
        "mae, mse, rmse, r_squared = evaluation(y_test, predictions)\n",
        "print(\"MAE:\", mae)\n",
        "print(\"MSE:\", mse)\n",
        "print(\"RMSE:\", rmse)\n",
        "print(\"R2 Score:\", r_squared)\n",
        "print(\"-\"*30)\n",
        "rmse_cross_val = rmse_cv(xgb)\n",
        "print(\"RMSE Cross-Validation:\", rmse_cross_val)\n",
        "\n",
        "list_of_models.append(evaluate_model('XGBoost Regression(default)',X_test,y_test,predictions))"
      ],
      "metadata": {
        "id": "LbZC3t9oGUTm"
      },
      "execution_count": null,
      "outputs": []
    },
    {
      "cell_type": "code",
      "source": [
        "#Comparing models\n",
        "Comparison_df=pd.DataFrame(list_of_models,columns=['Regression Model','Mean Absolute Error','Mean Squared Error','Root Mean Squared Error','r2 score','adjusted r2 score'])\n",
        "Comparison_df\n"
      ],
      "metadata": {
        "id": "2D4wcZfqOoAL"
      },
      "execution_count": null,
      "outputs": []
    },
    {
      "cell_type": "markdown",
      "source": [
        "# **Conclusion**"
      ],
      "metadata": {
        "id": "gCX9965dhzqZ"
      }
    },
    {
      "cell_type": "markdown",
      "source": [
        "**Evaluating the performance metrics of the models has brought us to a conclusion that Decison tree based Ensemble models like XGBoost is the most suitable for Predicting the number of bikes required on an hourly basis.**\n",
        "\n",
        "**We have seen their is also some effect of weather on renting bike numbers and most of the bikes rented on the official timinigs like 9-6 which is a standard time for officaills which can be determined from the data that on weekends renting bikes percentage goes on decreasing**\n",
        "\n",
        "\n",
        "\n",
        "**The important features for prediction are : Hour &Temperature.**\n",
        "\n",
        "**Due to the lack of significant linear correlation between the independent variables and the count of Rented bikes,Linear regression is not good fit in this scenario**"
      ],
      "metadata": {
        "id": "Fjb1IsQkh3yE"
      }
    },
    {
      "cell_type": "markdown",
      "source": [
        "### ***Hurrah! You have successfully completed your Machine Learning Capstone Project !!!***"
      ],
      "metadata": {
        "id": "gIfDvo9L0UH2"
      }
    }
  ]
}